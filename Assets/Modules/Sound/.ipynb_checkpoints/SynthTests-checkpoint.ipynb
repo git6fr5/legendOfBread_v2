{
 "cells": [
  {
   "cell_type": "code",
   "execution_count": 12,
   "id": "7d5c9022",
   "metadata": {},
   "outputs": [],
   "source": [
    "import numpy as np\n",
    "import matplotlib.pyplot as plot\n",
    "import math"
   ]
  },
  {
   "cell_type": "code",
   "execution_count": 184,
   "id": "36c0a434",
   "metadata": {},
   "outputs": [],
   "source": [
    "def get_wave(time, wave_func, decay, attack, sustain, overtones = 1, overtones_dist = [], root_freq=440):\n",
    "    # Get the wave shape\n",
    "    amplitude = np.zeros(time.shape);\n",
    "    amplitude = wave_func(amplitude, time, overtones, overtones_dist, root_freq);\n",
    "    # Apply the modifiers\n",
    "    for i in range(len(amplitude)):\n",
    "        if (time[i] < attack):\n",
    "            amplitude[i] *= (time[i] / attack) ** 2\n",
    "        if (time[i] > sustain):\n",
    "            amplitude[i] *= math.exp(-decay * (time[i] - sustain))\n",
    "    return amplitude;"
   ]
  },
  {
   "cell_type": "code",
   "execution_count": 185,
   "id": "d3b5e956",
   "metadata": {},
   "outputs": [],
   "source": [
    "def sin_wave(amplitude, time, overtones = 1, overtones_dist = [], root_freq=440):\n",
    "    for overtone in range(overtones):\n",
    "        volume = overtones_dist[overtone] if overtone < len(overtones_dist) else math.exp(-overtone);\n",
    "        freq = root_freq * (overtone + 1);\n",
    "        for i in range(len(amplitude)):\n",
    "            amplitude[i] += volume * math.sin( time[i] * freq * 2 * math.pi);\n",
    "    return amplitude;"
   ]
  },
  {
   "cell_type": "code",
   "execution_count": 186,
   "id": "04c7a8cd",
   "metadata": {},
   "outputs": [],
   "source": [
    "def sqr_wave(amplitude, time, overtones = 1, overtones_dist = [], root_freq=440):\n",
    "    for overtone in range(overtones):\n",
    "        volume = overtones_dist[overtone] if overtone < len(overtones_dist) else math.exp(-overtone);\n",
    "        freq = root_freq * (overtone + 1);\n",
    "        period = 1 / freq;\n",
    "        for i in range(len(amplitude)):\n",
    "            amplitude[i] += volume if time[i] % period < (period / 2) else -volume;\n",
    "    return amplitude;"
   ]
  },
  {
   "cell_type": "code",
   "execution_count": 187,
   "id": "63b095cd",
   "metadata": {},
   "outputs": [],
   "source": [
    "def tri_wave(amplitude, time, overtones = 1, overtones_dist = [], root_freq=440):\n",
    "    # Get the wave shape\n",
    "    for overtone in range(overtones):\n",
    "        volume = overtones_dist[overtone] if overtone < len(overtones_dist) else math.exp(-overtone);\n",
    "        freq = root_freq * (overtone + 1);\n",
    "        period = 1 / freq;\n",
    "        for i in range(len(amplitude)):\n",
    "            factor = (time[i] % (period / 2)) / (period / 2) \n",
    "            amplitude[i] += 2 * volume * factor - volume;\n",
    "            amplitude[i] *= 1 if time[i] % period < (period / 2) else -1;\n",
    "    return amplitude;"
   ]
  },
  {
   "cell_type": "code",
   "execution_count": 189,
   "id": "f04ec1bf",
   "metadata": {},
   "outputs": [
    {
     "data": {
      "image/png": "[encoded data removed]",
      "text/plain": [
       "<Figure size 432x288 with 1 Axes>"
      ]
     },
     "metadata": {
      "needs_background": "light"
     },
     "output_type": "display_data"
    }
   ],
   "source": [
    "time = np.arange(0, 0.05, 0.0000005);\n",
    "# time = np.arange(0, 1, 0.00001);\n",
    "\n",
    "# decay_range = np.arange(0.05, 5, 0.05)\n",
    "amplitude = get_wave(time,\n",
    "                     wave_func = sin_wave,\n",
    "                     decay = 5, \n",
    "                     attack = 0, \n",
    "                     sustain = 0.2, \n",
    "                     overtones = 3, \n",
    "                     overtones_dist = [1, 0, 0.4, 0.2],\n",
    "                     root_freq=1/0.05\n",
    "                    );\n",
    "\n",
    "# Plot a sine wave using time and amplitude obtained for the sine wave\n",
    "plot.plot(time, amplitude)\n",
    "\n",
    "# Give a title for the sine wave plot\n",
    "plot.title('Sine wave')\n",
    "\n",
    "# Give x axis label for the sine wave plot\n",
    "plot.xlabel('Time')\n",
    "\n",
    "# Give y axis label for the sine wave plot\n",
    "plot.ylabel('Amplitude')\n",
    "plot.grid(True, which='both')\n",
    "plot.axhline(y=0, color='k')\n",
    "plot.show()"
   ]
  },
  {
   "cell_type": "code",
   "execution_count": null,
   "id": "942a273b",
   "metadata": {},
   "outputs": [],
   "source": []
  },
  {
   "cell_type": "code",
   "execution_count": null,
   "id": "712db089",
   "metadata": {},
   "outputs": [],
   "source": []
  }
 ],
 "metadata": {
  "kernelspec": {
   "display_name": "Python 3 (ipykernel)",
   "language": "python",
   "name": "python3"
  },
  "language_info": {
   "codemirror_mode": {
    "name": "ipython",
    "version": 3
   },
   "file_extension": ".py",
   "mimetype": "text/x-python",
   "name": "python",
   "nbconvert_exporter": "python",
   "pygments_lexer": "ipython3",
   "version": "3.9.6"
  }
 },
 "nbformat": 4,
 "nbformat_minor": 5
}
